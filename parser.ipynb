{
 "cells": [
  {
   "cell_type": "code",
   "execution_count": 1,
   "metadata": {},
   "outputs": [
    {
     "data": {
      "text/plain": [
       "'<tbody>\\n <tr>\\n  <th class=\"ddlabel\" scope=\"row\">\\n   <a href=\"/prod/bwckschd.p_disp_detail_sched?term_in=202203&amp;crn_in=30096\">\\n    Introduction to Computing - 30096 - CS 201 - 0\\n   </a>\\n   <a href=\"http://www.sabanciuniv.edu/syllabus/?crn=30096&amp;term=202203\" target=\"blank\">\\n    <img alt=\"Course\\xa0Web\" border=\"0\" src=\"https://suisimg.sabanciuniv.edu/images/webc.gif\" title=\"Course\\xa0Web\"/>\\n   </a>\\n   <br/>\\n   <br/>\\n  </th>\\n </tr>\\n <tr>\\n  <td class=\"dddefault\">\\n   <span class=\"fieldlabeltext\">\\n  '"
      ]
     },
     "execution_count": 1,
     "metadata": {},
     "output_type": "execute_result"
    }
   ],
   "source": [
    "from bs4 import BeautifulSoup\n",
    "\n",
    "# Open and read the HTML file\n",
    "with open(\"./data/tbody.html\", \"r\") as f:\n",
    "    content = f.read()\n",
    "\n",
    "# Parse the HTML content with BeautifulSoup\n",
    "soup = BeautifulSoup(content, 'html.parser')\n",
    "\n",
    "# Print out a portion of the parsed HTML for verification\n",
    "str(soup.prettify())[:500]\n"
   ]
  },
  {
   "cell_type": "code",
   "execution_count": 2,
   "metadata": {},
   "outputs": [
    {
     "data": {
      "text/plain": [
       "3"
      ]
     },
     "execution_count": 2,
     "metadata": {},
     "output_type": "execute_result"
    }
   ],
   "source": [
    "import re\n",
    "import json\n",
    "\n",
    "# Function to extract meeting times\n",
    "def extract_meeting_times(meeting_table):\n",
    "    meeting_times = []\n",
    "    rows = meeting_table.find_all('tr')[1:]  # Skip header row\n",
    "    for row in rows:\n",
    "        cells = row.find_all('td')\n",
    "        meeting_times.append({\n",
    "            \"type\": cells[0].get_text(strip=True),\n",
    "            \"time\": cells[1].get_text(strip=True),\n",
    "            \"days\": cells[2].get_text(strip=True),\n",
    "            \"location\": cells[3].get_text(strip=True),\n",
    "            \"dateRange\": cells[4].get_text(strip=True),\n",
    "            \"scheduleType\": cells[5].get_text(strip=True),\n",
    "            \"instructors\": cells[6].get_text(strip=True),\n",
    "        })\n",
    "    return meeting_times\n",
    "\n",
    "# Initialize list to hold course data\n",
    "courses = []\n",
    "course = {}\n",
    "\n",
    "# Loop over each row in the table\n",
    "for row in soup.find_all('tr'):\n",
    "    if row.th and 'ddlabel' in row.th.get('class', []):\n",
    "        # Title row\n",
    "        title = row.th.get_text(strip=True)\n",
    "        match = re.search(r'(.+?) - (\\d+) - (.*?) - (\\w+)', title)\n",
    "        name, crn_number, course_code, section = match.groups()\n",
    "        course = {\n",
    "            \"name\": name,\n",
    "            \"displayName\": name.split(\" - \")[0],\n",
    "            \"courseCode\": course_code,\n",
    "            \"section\": section,\n",
    "            \"crnNumber\": crn_number,\n",
    "        }\n",
    "    else:\n",
    "        # Data row\n",
    "        cells = row.td\n",
    "        if cells:\n",
    "            text = cells.get_text(strip=True)\n",
    "            match = re.search(r'Associated Term: (.*?) Levels: (.*?) Faculty: (.*?)(\\d+\\.\\d+ Credits)?', text, re.S)\n",
    "            if match:\n",
    "                course.update({\n",
    "                    \"term\": match.group(1).strip(),\n",
    "                    \"levels\": [level.strip() for level in match.group(2).split(\",\")],\n",
    "                    \"faculty\": match.group(3).strip(),\n",
    "                    \"credits\": float(match.group(4).split()[0]) if match.group(4) else 0.0,\n",
    "                })\n",
    "            match = re.search(r'(\\d+) of (\\d+) Seats Available', text)\n",
    "            if match:\n",
    "                course[\"availableSeats\"] = int(match.group(1))\n",
    "            meeting_table = cells.find('table')\n",
    "            if meeting_table:\n",
    "                course[\"meetingTimes\"] = extract_meeting_times(meeting_table)\n",
    "        else:\n",
    "            # End of course data, append course to list\n",
    "            courses.append(course)\n",
    "            course = {}\n",
    "\n",
    "# Add the last course if it wasn't added\n",
    "if course:\n",
    "    courses.append(course)\n",
    "\n",
    "# Write course data to JSON file\n",
    "with open('./data/data.json', 'w') as f:\n",
    "    json.dump(courses, f)\n",
    "\n",
    "# Return number of courses processed for verification\n",
    "len(courses)\n"
   ]
  }
 ],
 "metadata": {
  "kernelspec": {
   "display_name": "Python 3",
   "language": "python",
   "name": "python3"
  },
  "language_info": {
   "codemirror_mode": {
    "name": "ipython",
    "version": 3
   },
   "file_extension": ".py",
   "mimetype": "text/x-python",
   "name": "python",
   "nbconvert_exporter": "python",
   "pygments_lexer": "ipython3",
   "version": "3.11.1"
  },
  "orig_nbformat": 4
 },
 "nbformat": 4,
 "nbformat_minor": 2
}
